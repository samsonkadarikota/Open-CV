{
 "cells": [
  {
   "cell_type": "code",
   "execution_count": 2,
   "id": "4151481d",
   "metadata": {},
   "outputs": [],
   "source": [
    "import cv2"
   ]
  },
  {
   "cell_type": "code",
   "execution_count": 3,
   "id": "c60aa96b",
   "metadata": {},
   "outputs": [],
   "source": [
    "import numpy as np"
   ]
  },
  {
   "cell_type": "code",
   "execution_count": 4,
   "id": "7038abc1",
   "metadata": {},
   "outputs": [],
   "source": [
    "input = cv2.imread(r\"D:\\Samson - All Data\\Samson resume\\elephant_img.jpg\")"
   ]
  },
  {
   "cell_type": "code",
   "execution_count": 5,
   "id": "17baa988",
   "metadata": {},
   "outputs": [
    {
     "data": {
      "text/plain": [
       "array([[[ 70,  90,  78],\n",
       "        [ 70,  90,  78],\n",
       "        [ 70,  90,  78],\n",
       "        ...,\n",
       "        [ 72, 106,  82],\n",
       "        [ 70, 102,  78],\n",
       "        [ 68, 100,  76]],\n",
       "\n",
       "       [[ 71,  91,  79],\n",
       "        [ 71,  91,  79],\n",
       "        [ 71,  91,  79],\n",
       "        ...,\n",
       "        [ 72, 105,  84],\n",
       "        [ 70, 101,  80],\n",
       "        [ 68,  99,  78]],\n",
       "\n",
       "       [[ 72,  92,  80],\n",
       "        [ 72,  92,  80],\n",
       "        [ 71,  91,  79],\n",
       "        ...,\n",
       "        [ 73, 106,  85],\n",
       "        [ 71, 102,  81],\n",
       "        [ 69, 100,  79]],\n",
       "\n",
       "       ...,\n",
       "\n",
       "       [[ 96,  71,  31],\n",
       "        [ 96,  72,  30],\n",
       "        [ 96,  72,  30],\n",
       "        ...,\n",
       "        [115,  82,  36],\n",
       "        [116,  82,  36],\n",
       "        [116,  82,  36]],\n",
       "\n",
       "       [[ 96,  72,  30],\n",
       "        [ 96,  72,  30],\n",
       "        [ 96,  72,  30],\n",
       "        ...,\n",
       "        [118,  82,  34],\n",
       "        [118,  82,  34],\n",
       "        [118,  82,  34]],\n",
       "\n",
       "       [[ 96,  72,  30],\n",
       "        [ 96,  72,  30],\n",
       "        [ 96,  73,  28],\n",
       "        ...,\n",
       "        [118,  83,  33],\n",
       "        [120,  83,  33],\n",
       "        [120,  83,  33]]], dtype=uint8)"
      ]
     },
     "execution_count": 5,
     "metadata": {},
     "output_type": "execute_result"
    }
   ],
   "source": [
    "input"
   ]
  },
  {
   "cell_type": "code",
   "execution_count": 6,
   "id": "4743db65",
   "metadata": {},
   "outputs": [],
   "source": [
    "cv2.imshow('elephant_img', input)\n",
    "\n",
    "cv2.waitKey(0)\n",
    "\n",
    "cv2.destroyAllWindows()"
   ]
  },
  {
   "cell_type": "code",
   "execution_count": 7,
   "id": "7a588259",
   "metadata": {},
   "outputs": [
    {
     "name": "stdout",
     "output_type": "stream",
     "text": [
      "Height of Image: 359 pixels\n",
      "Width of Image:  640 pixels\n"
     ]
    }
   ],
   "source": [
    "print('Height of Image:', int(input.shape[0]), 'pixels')\n",
    "print('Width of Image: ', int(input.shape[1]), 'pixels')"
   ]
  },
  {
   "cell_type": "code",
   "execution_count": 8,
   "id": "26f8a843",
   "metadata": {},
   "outputs": [
    {
     "data": {
      "text/plain": [
       "True"
      ]
     },
     "execution_count": 8,
     "metadata": {},
     "output_type": "execute_result"
    }
   ],
   "source": [
    "cv2.imwrite('output.png', input)"
   ]
  },
  {
   "cell_type": "code",
   "execution_count": 9,
   "id": "7f237073",
   "metadata": {},
   "outputs": [
    {
     "data": {
      "text/plain": [
       "'c:\\\\Users\\\\samua\\\\Data_Science\\\\Deep Learning'"
      ]
     },
     "execution_count": 9,
     "metadata": {},
     "output_type": "execute_result"
    }
   ],
   "source": [
    "import os\n",
    "os.getcwd()"
   ]
  },
  {
   "cell_type": "code",
   "execution_count": null,
   "id": "8bcc6363",
   "metadata": {},
   "outputs": [],
   "source": []
  },
  {
   "cell_type": "code",
   "execution_count": null,
   "id": "fdee6ce5",
   "metadata": {},
   "outputs": [],
   "source": []
  }
 ],
 "metadata": {
  "kernelspec": {
   "display_name": "tensorflow_env",
   "language": "python",
   "name": "python3"
  },
  "language_info": {
   "codemirror_mode": {
    "name": "ipython",
    "version": 3
   },
   "file_extension": ".py",
   "mimetype": "text/x-python",
   "name": "python",
   "nbconvert_exporter": "python",
   "pygments_lexer": "ipython3",
   "version": "3.10.13"
  }
 },
 "nbformat": 4,
 "nbformat_minor": 5
}
